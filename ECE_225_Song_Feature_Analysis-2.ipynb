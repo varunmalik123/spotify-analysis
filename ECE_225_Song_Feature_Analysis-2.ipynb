{
  "nbformat": 4,
  "nbformat_minor": 0,
  "metadata": {
    "colab": {
      "name": "ECE 225 Song Feature Analysis",
      "provenance": []
    },
    "kernelspec": {
      "name": "python3",
      "display_name": "Python 3"
    }
  },
  "cells": [
    {
      "cell_type": "markdown",
      "metadata": {
        "id": "WPANguFQZojR"
      },
      "source": [
        "##Song Feature Analysis over time\n"
      ]
    },
    {
      "cell_type": "code",
      "metadata": {
        "id": "2qFIyuwZDqjW"
      },
      "source": [
        "import pandas as pd \n",
        "import numpy as np \n",
        "import seaborn as sns"
      ],
      "execution_count": null,
      "outputs": []
    },
    {
      "cell_type": "code",
      "metadata": {
        "colab": {
          "base_uri": "https://localhost:8080/"
        },
        "id": "NXqsfSh-Gfw7",
        "outputId": "74ae273f-9688-4527-9cf9-164b6e63315e"
      },
      "source": [
        "df = pd.read_csv('data.csv')\n",
        "print(df.shape)\n",
        "\n",
        "Null_values = df.isnull().sum()\n",
        "# print(Null_values) #Seems like there are no null values  \n",
        "\n",
        "print(df.shape)\n",
        "df.drop_duplicates(inplace = True)\n",
        "print(df.shape) #No Duplicates because no change in shape \n"
      ],
      "execution_count": null,
      "outputs": [
        {
          "output_type": "stream",
          "text": [
            "(170653, 19)\n",
            "(170653, 19)\n",
            "(170653, 19)\n"
          ],
          "name": "stdout"
        }
      ]
    },
    {
      "cell_type": "code",
      "metadata": {
        "id": "fmtuRl60Q89F"
      },
      "source": [
        ""
      ],
      "execution_count": null,
      "outputs": []
    },
    {
      "cell_type": "code",
      "metadata": {
        "colab": {
          "base_uri": "https://localhost:8080/",
          "height": 779
        },
        "id": "hceBwCMFLWBP",
        "outputId": "6890924d-9d67-4f12-e424-6d95dadc0860"
      },
      "source": [
        "#Overall the df looks like it is in great shape. It has no missing values or duplicated data. Since we are using spotify's song features, they are already normalized to 0 and 1 \n",
        "\n",
        "#Re-ordering name to be the first column \n",
        "cols = df.columns.to_list()\n",
        "cols = cols[cols.index('name'):] + cols[:cols.index('name')]\n",
        "df = df[cols]\n",
        "df.drop([\"id\"], axis = 1)"
      ],
      "execution_count": null,
      "outputs": [
        {
          "output_type": "execute_result",
          "data": {
            "text/html": [
              "<div>\n",
              "<style scoped>\n",
              "    .dataframe tbody tr th:only-of-type {\n",
              "        vertical-align: middle;\n",
              "    }\n",
              "\n",
              "    .dataframe tbody tr th {\n",
              "        vertical-align: top;\n",
              "    }\n",
              "\n",
              "    .dataframe thead th {\n",
              "        text-align: right;\n",
              "    }\n",
              "</style>\n",
              "<table border=\"1\" class=\"dataframe\">\n",
              "  <thead>\n",
              "    <tr style=\"text-align: right;\">\n",
              "      <th></th>\n",
              "      <th>name</th>\n",
              "      <th>popularity</th>\n",
              "      <th>release_date</th>\n",
              "      <th>speechiness</th>\n",
              "      <th>tempo</th>\n",
              "      <th>valence</th>\n",
              "      <th>year</th>\n",
              "      <th>acousticness</th>\n",
              "      <th>artists</th>\n",
              "      <th>danceability</th>\n",
              "      <th>duration_ms</th>\n",
              "      <th>energy</th>\n",
              "      <th>explicit</th>\n",
              "      <th>instrumentalness</th>\n",
              "      <th>key</th>\n",
              "      <th>liveness</th>\n",
              "      <th>loudness</th>\n",
              "      <th>mode</th>\n",
              "    </tr>\n",
              "  </thead>\n",
              "  <tbody>\n",
              "    <tr>\n",
              "      <th>0</th>\n",
              "      <td>Piano Concerto No. 3 in D Minor, Op. 30: III. ...</td>\n",
              "      <td>4</td>\n",
              "      <td>1921</td>\n",
              "      <td>0.0366</td>\n",
              "      <td>80.954</td>\n",
              "      <td>0.0594</td>\n",
              "      <td>1921</td>\n",
              "      <td>0.98200</td>\n",
              "      <td>['Sergei Rachmaninoff', 'James Levine', 'Berli...</td>\n",
              "      <td>0.279</td>\n",
              "      <td>831667</td>\n",
              "      <td>0.211</td>\n",
              "      <td>0</td>\n",
              "      <td>0.878000</td>\n",
              "      <td>10</td>\n",
              "      <td>0.6650</td>\n",
              "      <td>-20.096</td>\n",
              "      <td>1</td>\n",
              "    </tr>\n",
              "    <tr>\n",
              "      <th>1</th>\n",
              "      <td>Clancy Lowered the Boom</td>\n",
              "      <td>5</td>\n",
              "      <td>1921</td>\n",
              "      <td>0.4150</td>\n",
              "      <td>60.936</td>\n",
              "      <td>0.9630</td>\n",
              "      <td>1921</td>\n",
              "      <td>0.73200</td>\n",
              "      <td>['Dennis Day']</td>\n",
              "      <td>0.819</td>\n",
              "      <td>180533</td>\n",
              "      <td>0.341</td>\n",
              "      <td>0</td>\n",
              "      <td>0.000000</td>\n",
              "      <td>7</td>\n",
              "      <td>0.1600</td>\n",
              "      <td>-12.441</td>\n",
              "      <td>1</td>\n",
              "    </tr>\n",
              "    <tr>\n",
              "      <th>2</th>\n",
              "      <td>Gati Bali</td>\n",
              "      <td>5</td>\n",
              "      <td>1921</td>\n",
              "      <td>0.0339</td>\n",
              "      <td>110.339</td>\n",
              "      <td>0.0394</td>\n",
              "      <td>1921</td>\n",
              "      <td>0.96100</td>\n",
              "      <td>['KHP Kridhamardawa Karaton Ngayogyakarta Hadi...</td>\n",
              "      <td>0.328</td>\n",
              "      <td>500062</td>\n",
              "      <td>0.166</td>\n",
              "      <td>0</td>\n",
              "      <td>0.913000</td>\n",
              "      <td>3</td>\n",
              "      <td>0.1010</td>\n",
              "      <td>-14.850</td>\n",
              "      <td>1</td>\n",
              "    </tr>\n",
              "    <tr>\n",
              "      <th>3</th>\n",
              "      <td>Danny Boy</td>\n",
              "      <td>3</td>\n",
              "      <td>1921</td>\n",
              "      <td>0.0354</td>\n",
              "      <td>100.109</td>\n",
              "      <td>0.1650</td>\n",
              "      <td>1921</td>\n",
              "      <td>0.96700</td>\n",
              "      <td>['Frank Parker']</td>\n",
              "      <td>0.275</td>\n",
              "      <td>210000</td>\n",
              "      <td>0.309</td>\n",
              "      <td>0</td>\n",
              "      <td>0.000028</td>\n",
              "      <td>5</td>\n",
              "      <td>0.3810</td>\n",
              "      <td>-9.316</td>\n",
              "      <td>1</td>\n",
              "    </tr>\n",
              "    <tr>\n",
              "      <th>4</th>\n",
              "      <td>When Irish Eyes Are Smiling</td>\n",
              "      <td>2</td>\n",
              "      <td>1921</td>\n",
              "      <td>0.0380</td>\n",
              "      <td>101.665</td>\n",
              "      <td>0.2530</td>\n",
              "      <td>1921</td>\n",
              "      <td>0.95700</td>\n",
              "      <td>['Phil Regan']</td>\n",
              "      <td>0.418</td>\n",
              "      <td>166693</td>\n",
              "      <td>0.193</td>\n",
              "      <td>0</td>\n",
              "      <td>0.000002</td>\n",
              "      <td>3</td>\n",
              "      <td>0.2290</td>\n",
              "      <td>-10.096</td>\n",
              "      <td>1</td>\n",
              "    </tr>\n",
              "    <tr>\n",
              "      <th>...</th>\n",
              "      <td>...</td>\n",
              "      <td>...</td>\n",
              "      <td>...</td>\n",
              "      <td>...</td>\n",
              "      <td>...</td>\n",
              "      <td>...</td>\n",
              "      <td>...</td>\n",
              "      <td>...</td>\n",
              "      <td>...</td>\n",
              "      <td>...</td>\n",
              "      <td>...</td>\n",
              "      <td>...</td>\n",
              "      <td>...</td>\n",
              "      <td>...</td>\n",
              "      <td>...</td>\n",
              "      <td>...</td>\n",
              "      <td>...</td>\n",
              "      <td>...</td>\n",
              "    </tr>\n",
              "    <tr>\n",
              "      <th>170648</th>\n",
              "      <td>China</td>\n",
              "      <td>72</td>\n",
              "      <td>2020-05-29</td>\n",
              "      <td>0.0881</td>\n",
              "      <td>105.029</td>\n",
              "      <td>0.6080</td>\n",
              "      <td>2020</td>\n",
              "      <td>0.08460</td>\n",
              "      <td>['Anuel AA', 'Daddy Yankee', 'KAROL G', 'Ozuna...</td>\n",
              "      <td>0.786</td>\n",
              "      <td>301714</td>\n",
              "      <td>0.808</td>\n",
              "      <td>0</td>\n",
              "      <td>0.000289</td>\n",
              "      <td>7</td>\n",
              "      <td>0.0822</td>\n",
              "      <td>-3.702</td>\n",
              "      <td>1</td>\n",
              "    </tr>\n",
              "    <tr>\n",
              "      <th>170649</th>\n",
              "      <td>Halloweenie III: Seven Days</td>\n",
              "      <td>68</td>\n",
              "      <td>2020-10-23</td>\n",
              "      <td>0.0605</td>\n",
              "      <td>137.936</td>\n",
              "      <td>0.7340</td>\n",
              "      <td>2020</td>\n",
              "      <td>0.20600</td>\n",
              "      <td>['Ashnikko']</td>\n",
              "      <td>0.717</td>\n",
              "      <td>150654</td>\n",
              "      <td>0.753</td>\n",
              "      <td>0</td>\n",
              "      <td>0.000000</td>\n",
              "      <td>7</td>\n",
              "      <td>0.1010</td>\n",
              "      <td>-6.020</td>\n",
              "      <td>1</td>\n",
              "    </tr>\n",
              "    <tr>\n",
              "      <th>170650</th>\n",
              "      <td>AYA</td>\n",
              "      <td>76</td>\n",
              "      <td>2020-11-03</td>\n",
              "      <td>0.0809</td>\n",
              "      <td>91.688</td>\n",
              "      <td>0.6370</td>\n",
              "      <td>2020</td>\n",
              "      <td>0.10100</td>\n",
              "      <td>['MAMAMOO']</td>\n",
              "      <td>0.634</td>\n",
              "      <td>211280</td>\n",
              "      <td>0.858</td>\n",
              "      <td>0</td>\n",
              "      <td>0.000009</td>\n",
              "      <td>4</td>\n",
              "      <td>0.2580</td>\n",
              "      <td>-2.226</td>\n",
              "      <td>0</td>\n",
              "    </tr>\n",
              "    <tr>\n",
              "      <th>170651</th>\n",
              "      <td>Darkness</td>\n",
              "      <td>70</td>\n",
              "      <td>2020-01-17</td>\n",
              "      <td>0.3080</td>\n",
              "      <td>75.055</td>\n",
              "      <td>0.1950</td>\n",
              "      <td>2020</td>\n",
              "      <td>0.00998</td>\n",
              "      <td>['Eminem']</td>\n",
              "      <td>0.671</td>\n",
              "      <td>337147</td>\n",
              "      <td>0.623</td>\n",
              "      <td>1</td>\n",
              "      <td>0.000008</td>\n",
              "      <td>2</td>\n",
              "      <td>0.6430</td>\n",
              "      <td>-7.161</td>\n",
              "      <td>1</td>\n",
              "    </tr>\n",
              "    <tr>\n",
              "      <th>170652</th>\n",
              "      <td>Billetes Azules (with J Balvin)</td>\n",
              "      <td>74</td>\n",
              "      <td>2020-10-16</td>\n",
              "      <td>0.1080</td>\n",
              "      <td>94.991</td>\n",
              "      <td>0.6420</td>\n",
              "      <td>2020</td>\n",
              "      <td>0.13200</td>\n",
              "      <td>['KEVVO', 'J Balvin']</td>\n",
              "      <td>0.856</td>\n",
              "      <td>189507</td>\n",
              "      <td>0.721</td>\n",
              "      <td>1</td>\n",
              "      <td>0.004710</td>\n",
              "      <td>7</td>\n",
              "      <td>0.1820</td>\n",
              "      <td>-4.928</td>\n",
              "      <td>1</td>\n",
              "    </tr>\n",
              "  </tbody>\n",
              "</table>\n",
              "<p>170653 rows × 18 columns</p>\n",
              "</div>"
            ],
            "text/plain": [
              "                                                     name  ...  mode\n",
              "0       Piano Concerto No. 3 in D Minor, Op. 30: III. ...  ...     1\n",
              "1                                 Clancy Lowered the Boom  ...     1\n",
              "2                                               Gati Bali  ...     1\n",
              "3                                               Danny Boy  ...     1\n",
              "4                             When Irish Eyes Are Smiling  ...     1\n",
              "...                                                   ...  ...   ...\n",
              "170648                                              China  ...     1\n",
              "170649                        Halloweenie III: Seven Days  ...     1\n",
              "170650                                                AYA  ...     0\n",
              "170651                                           Darkness  ...     1\n",
              "170652                    Billetes Azules (with J Balvin)  ...     1\n",
              "\n",
              "[170653 rows x 18 columns]"
            ]
          },
          "metadata": {
            "tags": []
          },
          "execution_count": 19
        }
      ]
    },
    {
      "cell_type": "code",
      "metadata": {
        "id": "T7ZUQTGIPiZD"
      },
      "source": [
        "#Lets figure out how trends of songs have changed over the years. First, we make a new data frame that groups by years\n",
        "df2 = df.groupby('year').mean().reset_index()\n"
      ],
      "execution_count": null,
      "outputs": []
    },
    {
      "cell_type": "code",
      "metadata": {
        "colab": {
          "base_uri": "https://localhost:8080/",
          "height": 439
        },
        "id": "wZMvNMOLMBjf",
        "outputId": "05d9e0e2-80ec-4039-94bb-bd8568ced158"
      },
      "source": [
        "df2"
      ],
      "execution_count": null,
      "outputs": [
        {
          "output_type": "execute_result",
          "data": {
            "text/html": [
              "<div>\n",
              "<style scoped>\n",
              "    .dataframe tbody tr th:only-of-type {\n",
              "        vertical-align: middle;\n",
              "    }\n",
              "\n",
              "    .dataframe tbody tr th {\n",
              "        vertical-align: top;\n",
              "    }\n",
              "\n",
              "    .dataframe thead th {\n",
              "        text-align: right;\n",
              "    }\n",
              "</style>\n",
              "<table border=\"1\" class=\"dataframe\">\n",
              "  <thead>\n",
              "    <tr style=\"text-align: right;\">\n",
              "      <th></th>\n",
              "      <th>year</th>\n",
              "      <th>valence</th>\n",
              "      <th>acousticness</th>\n",
              "      <th>danceability</th>\n",
              "      <th>duration_ms</th>\n",
              "      <th>energy</th>\n",
              "      <th>explicit</th>\n",
              "      <th>instrumentalness</th>\n",
              "      <th>key</th>\n",
              "      <th>liveness</th>\n",
              "      <th>loudness</th>\n",
              "      <th>mode</th>\n",
              "      <th>popularity</th>\n",
              "      <th>speechiness</th>\n",
              "      <th>tempo</th>\n",
              "    </tr>\n",
              "  </thead>\n",
              "  <tbody>\n",
              "    <tr>\n",
              "      <th>0</th>\n",
              "      <td>1920</td>\n",
              "      <td>0.379327</td>\n",
              "      <td>0.886896</td>\n",
              "      <td>0.418597</td>\n",
              "      <td>260537.166667</td>\n",
              "      <td>0.231815</td>\n",
              "      <td>0.046667</td>\n",
              "      <td>0.344878</td>\n",
              "      <td>5.093333</td>\n",
              "      <td>0.205710</td>\n",
              "      <td>-17.048667</td>\n",
              "      <td>0.673333</td>\n",
              "      <td>0.653333</td>\n",
              "      <td>0.073662</td>\n",
              "      <td>101.531493</td>\n",
              "    </tr>\n",
              "    <tr>\n",
              "      <th>1</th>\n",
              "      <td>1920</td>\n",
              "      <td>0.535549</td>\n",
              "      <td>0.938592</td>\n",
              "      <td>0.482042</td>\n",
              "      <td>165469.746479</td>\n",
              "      <td>0.237815</td>\n",
              "      <td>0.000000</td>\n",
              "      <td>0.434195</td>\n",
              "      <td>5.267606</td>\n",
              "      <td>0.240720</td>\n",
              "      <td>-19.275282</td>\n",
              "      <td>0.633803</td>\n",
              "      <td>0.140845</td>\n",
              "      <td>0.116655</td>\n",
              "      <td>100.884521</td>\n",
              "    </tr>\n",
              "    <tr>\n",
              "      <th>2</th>\n",
              "      <td>1920</td>\n",
              "      <td>0.625492</td>\n",
              "      <td>0.957247</td>\n",
              "      <td>0.577341</td>\n",
              "      <td>177942.362162</td>\n",
              "      <td>0.262406</td>\n",
              "      <td>0.000000</td>\n",
              "      <td>0.371733</td>\n",
              "      <td>4.810811</td>\n",
              "      <td>0.227462</td>\n",
              "      <td>-14.129211</td>\n",
              "      <td>0.789189</td>\n",
              "      <td>5.389189</td>\n",
              "      <td>0.093949</td>\n",
              "      <td>114.010730</td>\n",
              "    </tr>\n",
              "    <tr>\n",
              "      <th>3</th>\n",
              "      <td>1920</td>\n",
              "      <td>0.663725</td>\n",
              "      <td>0.940200</td>\n",
              "      <td>0.549894</td>\n",
              "      <td>191046.707627</td>\n",
              "      <td>0.344347</td>\n",
              "      <td>0.000000</td>\n",
              "      <td>0.581701</td>\n",
              "      <td>5.648305</td>\n",
              "      <td>0.235219</td>\n",
              "      <td>-14.231343</td>\n",
              "      <td>0.754237</td>\n",
              "      <td>0.661017</td>\n",
              "      <td>0.092089</td>\n",
              "      <td>120.689572</td>\n",
              "    </tr>\n",
              "    <tr>\n",
              "      <th>4</th>\n",
              "      <td>1920</td>\n",
              "      <td>0.621929</td>\n",
              "      <td>0.962607</td>\n",
              "      <td>0.573863</td>\n",
              "      <td>184986.924460</td>\n",
              "      <td>0.278594</td>\n",
              "      <td>0.000000</td>\n",
              "      <td>0.418297</td>\n",
              "      <td>5.107914</td>\n",
              "      <td>0.237668</td>\n",
              "      <td>-14.146414</td>\n",
              "      <td>0.730216</td>\n",
              "      <td>2.604317</td>\n",
              "      <td>0.111918</td>\n",
              "      <td>115.521921</td>\n",
              "    </tr>\n",
              "    <tr>\n",
              "      <th>...</th>\n",
              "      <td>...</td>\n",
              "      <td>...</td>\n",
              "      <td>...</td>\n",
              "      <td>...</td>\n",
              "      <td>...</td>\n",
              "      <td>...</td>\n",
              "      <td>...</td>\n",
              "      <td>...</td>\n",
              "      <td>...</td>\n",
              "      <td>...</td>\n",
              "      <td>...</td>\n",
              "      <td>...</td>\n",
              "      <td>...</td>\n",
              "      <td>...</td>\n",
              "      <td>...</td>\n",
              "    </tr>\n",
              "    <tr>\n",
              "      <th>95</th>\n",
              "      <td>1920</td>\n",
              "      <td>0.431532</td>\n",
              "      <td>0.284171</td>\n",
              "      <td>0.600202</td>\n",
              "      <td>221396.510295</td>\n",
              "      <td>0.592855</td>\n",
              "      <td>0.309961</td>\n",
              "      <td>0.093984</td>\n",
              "      <td>5.139121</td>\n",
              "      <td>0.181170</td>\n",
              "      <td>-8.061056</td>\n",
              "      <td>0.646077</td>\n",
              "      <td>59.647190</td>\n",
              "      <td>0.104313</td>\n",
              "      <td>118.652630</td>\n",
              "    </tr>\n",
              "    <tr>\n",
              "      <th>96</th>\n",
              "      <td>1920</td>\n",
              "      <td>0.416476</td>\n",
              "      <td>0.286099</td>\n",
              "      <td>0.612217</td>\n",
              "      <td>211115.696787</td>\n",
              "      <td>0.590421</td>\n",
              "      <td>0.338353</td>\n",
              "      <td>0.097091</td>\n",
              "      <td>5.122490</td>\n",
              "      <td>0.191713</td>\n",
              "      <td>-8.312630</td>\n",
              "      <td>0.623996</td>\n",
              "      <td>63.263554</td>\n",
              "      <td>0.110536</td>\n",
              "      <td>117.202740</td>\n",
              "    </tr>\n",
              "    <tr>\n",
              "      <th>97</th>\n",
              "      <td>1920</td>\n",
              "      <td>0.447921</td>\n",
              "      <td>0.267633</td>\n",
              "      <td>0.663500</td>\n",
              "      <td>206001.007133</td>\n",
              "      <td>0.602435</td>\n",
              "      <td>0.427960</td>\n",
              "      <td>0.054217</td>\n",
              "      <td>5.353780</td>\n",
              "      <td>0.176326</td>\n",
              "      <td>-7.168785</td>\n",
              "      <td>0.611983</td>\n",
              "      <td>63.296243</td>\n",
              "      <td>0.127176</td>\n",
              "      <td>121.922308</td>\n",
              "    </tr>\n",
              "    <tr>\n",
              "      <th>98</th>\n",
              "      <td>1920</td>\n",
              "      <td>0.458818</td>\n",
              "      <td>0.278299</td>\n",
              "      <td>0.644814</td>\n",
              "      <td>201024.788096</td>\n",
              "      <td>0.593224</td>\n",
              "      <td>0.398666</td>\n",
              "      <td>0.077640</td>\n",
              "      <td>5.142637</td>\n",
              "      <td>0.172616</td>\n",
              "      <td>-7.722192</td>\n",
              "      <td>0.619805</td>\n",
              "      <td>65.256542</td>\n",
              "      <td>0.121043</td>\n",
              "      <td>120.235644</td>\n",
              "    </tr>\n",
              "    <tr>\n",
              "      <th>99</th>\n",
              "      <td>1920</td>\n",
              "      <td>0.501048</td>\n",
              "      <td>0.219931</td>\n",
              "      <td>0.692904</td>\n",
              "      <td>193728.397537</td>\n",
              "      <td>0.631232</td>\n",
              "      <td>0.495567</td>\n",
              "      <td>0.016376</td>\n",
              "      <td>5.314286</td>\n",
              "      <td>0.178535</td>\n",
              "      <td>-6.595067</td>\n",
              "      <td>0.581281</td>\n",
              "      <td>64.301970</td>\n",
              "      <td>0.141384</td>\n",
              "      <td>124.283129</td>\n",
              "    </tr>\n",
              "  </tbody>\n",
              "</table>\n",
              "<p>100 rows × 15 columns</p>\n",
              "</div>"
            ],
            "text/plain": [
              "    year   valence  acousticness  ...  popularity  speechiness       tempo\n",
              "0   1920  0.379327      0.886896  ...    0.653333     0.073662  101.531493\n",
              "1   1920  0.535549      0.938592  ...    0.140845     0.116655  100.884521\n",
              "2   1920  0.625492      0.957247  ...    5.389189     0.093949  114.010730\n",
              "3   1920  0.663725      0.940200  ...    0.661017     0.092089  120.689572\n",
              "4   1920  0.621929      0.962607  ...    2.604317     0.111918  115.521921\n",
              "..   ...       ...           ...  ...         ...          ...         ...\n",
              "95  1920  0.431532      0.284171  ...   59.647190     0.104313  118.652630\n",
              "96  1920  0.416476      0.286099  ...   63.263554     0.110536  117.202740\n",
              "97  1920  0.447921      0.267633  ...   63.296243     0.127176  121.922308\n",
              "98  1920  0.458818      0.278299  ...   65.256542     0.121043  120.235644\n",
              "99  1920  0.501048      0.219931  ...   64.301970     0.141384  124.283129\n",
              "\n",
              "[100 rows x 15 columns]"
            ]
          },
          "metadata": {
            "tags": []
          },
          "execution_count": 54
        }
      ]
    },
    {
      "cell_type": "code",
      "metadata": {
        "colab": {
          "base_uri": "https://localhost:8080/",
          "height": 454
        },
        "id": "2L3O50khcCCr",
        "outputId": "391965f9-871f-438c-85c9-28f7fec6910f"
      },
      "source": [
        "sns.lmplot('year', 'danceability', data=df2, fit_reg=True)"
      ],
      "execution_count": null,
      "outputs": [
        {
          "output_type": "stream",
          "text": [
            "/usr/local/lib/python3.6/dist-packages/seaborn/_decorators.py:43: FutureWarning: Pass the following variables as keyword args: x, y. From version 0.12, the only valid positional argument will be `data`, and passing other arguments without an explicit keyword will result in an error or misinterpretation.\n",
            "  FutureWarning\n"
          ],
          "name": "stderr"
        },
        {
          "output_type": "execute_result",
          "data": {
            "text/plain": [
              "<seaborn.axisgrid.FacetGrid at 0x7f882f4f4c50>"
            ]
          },
          "metadata": {
            "tags": []
          },
          "execution_count": 30
        },
        {
          "output_type": "display_data",
          "data": {
            "image/png": "[encoded data removed]",
            "text/plain": [
              "<Figure size 360x360 with 1 Axes>"
            ]
          },
          "metadata": {
            "tags": [],
            "needs_background": "light"
          }
        }
      ]
    },
    {
      "cell_type": "code",
      "metadata": {
        "id": "-lB1UGqKc9S6"
      },
      "source": [
        "def quantize(x):\n",
        "  x = int(x/10)\n",
        "  x = x%100\n",
        "  if int(x/10) == 9:\n",
        "    return 1000+10*x\n",
        "  if int(x/10) ==0:\n",
        "    return 2000+10*x\n",
        "  \n",
        "\n",
        "list_year = list(df2[\"year\"].unique()) \n",
        "\n",
        "df3 = df\n",
        "df3['year'] = df3[\"year\"].apply(quantize)\n",
        "\n",
        "df_decades = df3.groupby('year').mean().reset_index()\n",
        "\n",
        "\n",
        "# df2[df2.year == 1992]"
      ],
      "execution_count": null,
      "outputs": []
    },
    {
      "cell_type": "code",
      "metadata": {
        "colab": {
          "base_uri": "https://localhost:8080/",
          "height": 410
        },
        "id": "n-8j_vYD1ls1",
        "outputId": "b0f53077-6e77-4572-c202-acee2826f82f"
      },
      "source": [
        "df_decades"
      ],
      "execution_count": null,
      "outputs": [
        {
          "output_type": "execute_result",
          "data": {
            "text/html": [
              "<div>\n",
              "<style scoped>\n",
              "    .dataframe tbody tr th:only-of-type {\n",
              "        vertical-align: middle;\n",
              "    }\n",
              "\n",
              "    .dataframe tbody tr th {\n",
              "        vertical-align: top;\n",
              "    }\n",
              "\n",
              "    .dataframe thead th {\n",
              "        text-align: right;\n",
              "    }\n",
              "</style>\n",
              "<table border=\"1\" class=\"dataframe\">\n",
              "  <thead>\n",
              "    <tr style=\"text-align: right;\">\n",
              "      <th></th>\n",
              "      <th>year</th>\n",
              "      <th>valence</th>\n",
              "      <th>acousticness</th>\n",
              "      <th>danceability</th>\n",
              "      <th>duration_ms</th>\n",
              "      <th>energy</th>\n",
              "      <th>explicit</th>\n",
              "      <th>instrumentalness</th>\n",
              "      <th>key</th>\n",
              "      <th>liveness</th>\n",
              "      <th>loudness</th>\n",
              "      <th>mode</th>\n",
              "      <th>popularity</th>\n",
              "      <th>speechiness</th>\n",
              "      <th>tempo</th>\n",
              "    </tr>\n",
              "  </thead>\n",
              "  <tbody>\n",
              "    <tr>\n",
              "      <th>0</th>\n",
              "      <td>1920</td>\n",
              "      <td>0.542143</td>\n",
              "      <td>0.801554</td>\n",
              "      <td>0.586963</td>\n",
              "      <td>183769.229419</td>\n",
              "      <td>0.235133</td>\n",
              "      <td>0.133632</td>\n",
              "      <td>0.377181</td>\n",
              "      <td>5.405579</td>\n",
              "      <td>0.210910</td>\n",
              "      <td>-16.699090</td>\n",
              "      <td>0.694108</td>\n",
              "      <td>1.304331</td>\n",
              "      <td>0.291475</td>\n",
              "      <td>110.431253</td>\n",
              "    </tr>\n",
              "    <tr>\n",
              "      <th>1</th>\n",
              "      <td>1930</td>\n",
              "      <td>0.567896</td>\n",
              "      <td>0.867694</td>\n",
              "      <td>0.541664</td>\n",
              "      <td>207616.599539</td>\n",
              "      <td>0.286655</td>\n",
              "      <td>0.061891</td>\n",
              "      <td>0.276707</td>\n",
              "      <td>5.310713</td>\n",
              "      <td>0.225639</td>\n",
              "      <td>-14.214586</td>\n",
              "      <td>0.693266</td>\n",
              "      <td>2.536601</td>\n",
              "      <td>0.204065</td>\n",
              "      <td>111.545690</td>\n",
              "    </tr>\n",
              "    <tr>\n",
              "      <th>2</th>\n",
              "      <td>1940</td>\n",
              "      <td>0.487830</td>\n",
              "      <td>0.870974</td>\n",
              "      <td>0.473476</td>\n",
              "      <td>217894.653661</td>\n",
              "      <td>0.254896</td>\n",
              "      <td>0.071076</td>\n",
              "      <td>0.363176</td>\n",
              "      <td>5.178697</td>\n",
              "      <td>0.221343</td>\n",
              "      <td>-15.331419</td>\n",
              "      <td>0.702042</td>\n",
              "      <td>1.876252</td>\n",
              "      <td>0.153847</td>\n",
              "      <td>107.379639</td>\n",
              "    </tr>\n",
              "    <tr>\n",
              "      <th>3</th>\n",
              "      <td>1950</td>\n",
              "      <td>0.478597</td>\n",
              "      <td>0.840334</td>\n",
              "      <td>0.476858</td>\n",
              "      <td>220482.874358</td>\n",
              "      <td>0.286753</td>\n",
              "      <td>0.007758</td>\n",
              "      <td>0.247795</td>\n",
              "      <td>5.030227</td>\n",
              "      <td>0.209219</td>\n",
              "      <td>-14.731226</td>\n",
              "      <td>0.710882</td>\n",
              "      <td>10.692091</td>\n",
              "      <td>0.093679</td>\n",
              "      <td>110.972049</td>\n",
              "    </tr>\n",
              "    <tr>\n",
              "      <th>4</th>\n",
              "      <td>1960</td>\n",
              "      <td>0.551939</td>\n",
              "      <td>0.624013</td>\n",
              "      <td>0.494697</td>\n",
              "      <td>211668.431071</td>\n",
              "      <td>0.414520</td>\n",
              "      <td>0.000563</td>\n",
              "      <td>0.157578</td>\n",
              "      <td>5.107269</td>\n",
              "      <td>0.208687</td>\n",
              "      <td>-12.676736</td>\n",
              "      <td>0.753952</td>\n",
              "      <td>26.551742</td>\n",
              "      <td>0.057731</td>\n",
              "      <td>115.166468</td>\n",
              "    </tr>\n",
              "    <tr>\n",
              "      <th>5</th>\n",
              "      <td>1970</td>\n",
              "      <td>0.585098</td>\n",
              "      <td>0.400162</td>\n",
              "      <td>0.524927</td>\n",
              "      <td>254051.705500</td>\n",
              "      <td>0.533716</td>\n",
              "      <td>0.003550</td>\n",
              "      <td>0.116031</td>\n",
              "      <td>5.088750</td>\n",
              "      <td>0.216406</td>\n",
              "      <td>-11.424966</td>\n",
              "      <td>0.743200</td>\n",
              "      <td>35.055800</td>\n",
              "      <td>0.059764</td>\n",
              "      <td>119.858574</td>\n",
              "    </tr>\n",
              "    <tr>\n",
              "      <th>6</th>\n",
              "      <td>1980</td>\n",
              "      <td>0.564420</td>\n",
              "      <td>0.298634</td>\n",
              "      <td>0.546385</td>\n",
              "      <td>252120.366045</td>\n",
              "      <td>0.594715</td>\n",
              "      <td>0.023224</td>\n",
              "      <td>0.122269</td>\n",
              "      <td>5.270932</td>\n",
              "      <td>0.204639</td>\n",
              "      <td>-11.226990</td>\n",
              "      <td>0.709874</td>\n",
              "      <td>37.523426</td>\n",
              "      <td>0.062035</td>\n",
              "      <td>121.345255</td>\n",
              "    </tr>\n",
              "    <tr>\n",
              "      <th>7</th>\n",
              "      <td>1990</td>\n",
              "      <td>0.544997</td>\n",
              "      <td>0.307533</td>\n",
              "      <td>0.566082</td>\n",
              "      <td>248595.562535</td>\n",
              "      <td>0.586066</td>\n",
              "      <td>0.115120</td>\n",
              "      <td>0.109744</td>\n",
              "      <td>5.330235</td>\n",
              "      <td>0.196547</td>\n",
              "      <td>-10.004415</td>\n",
              "      <td>0.723079</td>\n",
              "      <td>44.192252</td>\n",
              "      <td>0.080528</td>\n",
              "      <td>119.404234</td>\n",
              "    </tr>\n",
              "    <tr>\n",
              "      <th>8</th>\n",
              "      <td>2000</td>\n",
              "      <td>0.530295</td>\n",
              "      <td>0.269761</td>\n",
              "      <td>0.574142</td>\n",
              "      <td>239517.406953</td>\n",
              "      <td>0.651586</td>\n",
              "      <td>0.141301</td>\n",
              "      <td>0.083848</td>\n",
              "      <td>5.282297</td>\n",
              "      <td>0.195582</td>\n",
              "      <td>-7.501916</td>\n",
              "      <td>0.685483</td>\n",
              "      <td>49.734348</td>\n",
              "      <td>0.087719</td>\n",
              "      <td>121.254695</td>\n",
              "    </tr>\n",
              "    <tr>\n",
              "      <th>9</th>\n",
              "      <td>2010</td>\n",
              "      <td>0.456371</td>\n",
              "      <td>0.264094</td>\n",
              "      <td>0.597419</td>\n",
              "      <td>227089.288561</td>\n",
              "      <td>0.629011</td>\n",
              "      <td>0.267725</td>\n",
              "      <td>0.087420</td>\n",
              "      <td>5.187317</td>\n",
              "      <td>0.189556</td>\n",
              "      <td>-7.509348</td>\n",
              "      <td>0.648276</td>\n",
              "      <td>57.642915</td>\n",
              "      <td>0.098858</td>\n",
              "      <td>120.839938</td>\n",
              "    </tr>\n",
              "    <tr>\n",
              "      <th>10</th>\n",
              "      <td>2020</td>\n",
              "      <td>0.501048</td>\n",
              "      <td>0.219931</td>\n",
              "      <td>0.692904</td>\n",
              "      <td>193728.397537</td>\n",
              "      <td>0.631232</td>\n",
              "      <td>0.495567</td>\n",
              "      <td>0.016376</td>\n",
              "      <td>5.314286</td>\n",
              "      <td>0.178535</td>\n",
              "      <td>-6.595067</td>\n",
              "      <td>0.581281</td>\n",
              "      <td>64.301970</td>\n",
              "      <td>0.141384</td>\n",
              "      <td>124.283129</td>\n",
              "    </tr>\n",
              "  </tbody>\n",
              "</table>\n",
              "</div>"
            ],
            "text/plain": [
              "    year   valence  acousticness  ...  popularity  speechiness       tempo\n",
              "0   1920  0.542143      0.801554  ...    1.304331     0.291475  110.431253\n",
              "1   1930  0.567896      0.867694  ...    2.536601     0.204065  111.545690\n",
              "2   1940  0.487830      0.870974  ...    1.876252     0.153847  107.379639\n",
              "3   1950  0.478597      0.840334  ...   10.692091     0.093679  110.972049\n",
              "4   1960  0.551939      0.624013  ...   26.551742     0.057731  115.166468\n",
              "5   1970  0.585098      0.400162  ...   35.055800     0.059764  119.858574\n",
              "6   1980  0.564420      0.298634  ...   37.523426     0.062035  121.345255\n",
              "7   1990  0.544997      0.307533  ...   44.192252     0.080528  119.404234\n",
              "8   2000  0.530295      0.269761  ...   49.734348     0.087719  121.254695\n",
              "9   2010  0.456371      0.264094  ...   57.642915     0.098858  120.839938\n",
              "10  2020  0.501048      0.219931  ...   64.301970     0.141384  124.283129\n",
              "\n",
              "[11 rows x 15 columns]"
            ]
          },
          "metadata": {
            "tags": []
          },
          "execution_count": 47
        }
      ]
    },
    {
      "cell_type": "code",
      "metadata": {
        "colab": {
          "base_uri": "https://localhost:8080/",
          "height": 454
        },
        "id": "Y09YEINq5Dd7",
        "outputId": "c41ae060-8667-4cf0-b2dc-8daf847ed613"
      },
      "source": [
        "sns.lmplot('year', 'danceability', data=df_decades, fit_reg=True)"
      ],
      "execution_count": null,
      "outputs": [
        {
          "output_type": "stream",
          "text": [
            "/usr/local/lib/python3.6/dist-packages/seaborn/_decorators.py:43: FutureWarning: Pass the following variables as keyword args: x, y. From version 0.12, the only valid positional argument will be `data`, and passing other arguments without an explicit keyword will result in an error or misinterpretation.\n",
            "  FutureWarning\n"
          ],
          "name": "stderr"
        },
        {
          "output_type": "execute_result",
          "data": {
            "text/plain": [
              "<seaborn.axisgrid.FacetGrid at 0x7f882f200710>"
            ]
          },
          "metadata": {
            "tags": []
          },
          "execution_count": 51
        },
        {
          "output_type": "display_data",
          "data": {
            "image/png": "[encoded data removed]",
            "text/plain": [
              "<Figure size 360x360 with 1 Axes>"
            ]
          },
          "metadata": {
            "tags": [],
            "needs_background": "light"
          }
        }
      ]
    },
    {
      "cell_type": "markdown",
      "metadata": {
        "id": "c1a1l0m32agY"
      },
      "source": [
        "There is a very clear overall upward trend in the daceability of songs since the 1920s. Daceability is a song feature offered by Spotify that is on a scale from 0 to 1 with 1 being the most daceable. This feature takes into account the songs tempo, rhythm, beat strength and overall regularity. The overall upward trends in daceability is very expected, with the rise of the disco era in the 1960s through the steady increase in the club/music festival culture throughout the 2000s and 2010s. This incrase in daceability is very strongly correlated with the incrase in tempo since 1920s. Intuively, we would want to dance to higer tempo music, espically in clubs and music festivals, further justifying the trend in daceability. However, we can expect the early 2020s to be a statisticaly outlier in this trend because of the current pandemic causing a sharp increase in the closer of nightclubs (Vox). Unfortunely this dateset only goes upto 2019, so this would be interesting to analyse in the future. We can see the 1930s and 1940s are  statistical outliers in the overall increase in daceability. A possible explanantion fo this is the great depression in the 1930s and the second world war that lasted throughout the mid 1940s. From the 1940s, we can see a stready increase. https://www.vox.com/the-highlight/21363908/coronavirus-nightclubs-music-venues"
      ]
    },
    {
      "cell_type": "markdown",
      "metadata": {
        "id": "dqh1UobBn2qr"
      },
      "source": [
        "#Explict Vs Time"
      ]
    },
    {
      "cell_type": "code",
      "metadata": {
        "id": "SBOpNQELoaSW"
      },
      "source": [
        "df = pd.read_csv('data.csv')\n",
        "df_years = df.groupby('year').mean().reset_index()"
      ],
      "execution_count": null,
      "outputs": []
    },
    {
      "cell_type": "code",
      "metadata": {
        "colab": {
          "base_uri": "https://localhost:8080/",
          "height": 454
        },
        "id": "9ZcFHWHuoEXh",
        "outputId": "88dc33a9-41de-40d4-e6ee-dd3a3249dfd9"
      },
      "source": [
        "sns.lmplot('year', 'explicit' , data=df_years, fit_reg=True)"
      ],
      "execution_count": null,
      "outputs": [
        {
          "output_type": "stream",
          "text": [
            "/usr/local/lib/python3.6/dist-packages/seaborn/_decorators.py:43: FutureWarning: Pass the following variables as keyword args: x, y. From version 0.12, the only valid positional argument will be `data`, and passing other arguments without an explicit keyword will result in an error or misinterpretation.\n",
            "  FutureWarning\n"
          ],
          "name": "stderr"
        },
        {
          "output_type": "execute_result",
          "data": {
            "text/plain": [
              "<seaborn.axisgrid.FacetGrid at 0x7f882ef87cf8>"
            ]
          },
          "metadata": {
            "tags": []
          },
          "execution_count": 60
        },
        {
          "output_type": "display_data",
          "data": {
            "image/png": "[encoded data removed]",
            "text/plain": [
              "<Figure size 360x360 with 1 Axes>"
            ]
          },
          "metadata": {
            "tags": [],
            "needs_background": "light"
          }
        }
      ]
    },
    {
      "cell_type": "code",
      "metadata": {
        "colab": {
          "base_uri": "https://localhost:8080/",
          "height": 454
        },
        "id": "4KjVQHE1owNK",
        "outputId": "94be5052-841f-436f-9893-44646f58fa10"
      },
      "source": [
        "sns.lmplot('year', 'explicit' , data=df_decades, fit_reg=True)"
      ],
      "execution_count": null,
      "outputs": [
        {
          "output_type": "stream",
          "text": [
            "/usr/local/lib/python3.6/dist-packages/seaborn/_decorators.py:43: FutureWarning: Pass the following variables as keyword args: x, y. From version 0.12, the only valid positional argument will be `data`, and passing other arguments without an explicit keyword will result in an error or misinterpretation.\n",
            "  FutureWarning\n"
          ],
          "name": "stderr"
        },
        {
          "output_type": "execute_result",
          "data": {
            "text/plain": [
              "<seaborn.axisgrid.FacetGrid at 0x7f882ef87358>"
            ]
          },
          "metadata": {
            "tags": []
          },
          "execution_count": 61
        },
        {
          "output_type": "display_data",
          "data": {
            "image/png": "[encoded data removed]",
            "text/plain": [
              "<Figure size 360x360 with 1 Axes>"
            ]
          },
          "metadata": {
            "tags": [],
            "needs_background": "light"
          }
        }
      ]
    },
    {
      "cell_type": "markdown",
      "metadata": {
        "id": "YSPOL2tE5DSO"
      },
      "source": [
        "There is an overall increase in explictness of music since the 1920s. This can be attributed largely to the rise of hip/hop as concluded by another study done by a data analyst Mark Bannister, also using Spotify's API (Newsweek). He reasoned the rise in explictness not only to hip/hop for making it trendy, but also introducing a numbness factor where over time, we become less recepitive to an explictness level. This means we can justify the increase in explicitness over the years as an attempt by music artists to continue to keep us engaged with their music. https://www.newsweek.com/songs-explicit-lyrics-popular-increase-billboard-spotify-583551"
      ]
    },
    {
      "cell_type": "markdown",
      "metadata": {
        "id": "jtWGS0BLo1Sj"
      },
      "source": [
        "#Instrumentalness vs Time"
      ]
    },
    {
      "cell_type": "code",
      "metadata": {
        "colab": {
          "base_uri": "https://localhost:8080/",
          "height": 454
        },
        "id": "ZD-vyQp_o8pJ",
        "outputId": "dcf07280-ae67-4949-df90-26c46a28f457"
      },
      "source": [
        "sns.lmplot('year', 'instrumentalness' , data=df_years, fit_reg=True)"
      ],
      "execution_count": null,
      "outputs": [
        {
          "output_type": "stream",
          "text": [
            "/usr/local/lib/python3.6/dist-packages/seaborn/_decorators.py:43: FutureWarning: Pass the following variables as keyword args: x, y. From version 0.12, the only valid positional argument will be `data`, and passing other arguments without an explicit keyword will result in an error or misinterpretation.\n",
            "  FutureWarning\n"
          ],
          "name": "stderr"
        },
        {
          "output_type": "execute_result",
          "data": {
            "text/plain": [
              "<seaborn.axisgrid.FacetGrid at 0x7f882cadfe10>"
            ]
          },
          "metadata": {
            "tags": []
          },
          "execution_count": 62
        },
        {
          "output_type": "display_data",
          "data": {
            "image/png": "[encoded data removed]",
            "text/plain": [
              "<Figure size 360x360 with 1 Axes>"
            ]
          },
          "metadata": {
            "tags": [],
            "needs_background": "light"
          }
        }
      ]
    },
    {
      "cell_type": "markdown",
      "metadata": {
        "id": "nThX3JHR6bsr"
      },
      "source": [
        "Instrumentallness is another feature offered by the Spotify API. The rate each song on a scale from one to zero, with one being a track that contains no vocals and an acapella would earn a score of close to zero. The steady decline intrumentalness can be explained by the shift in popular genres over the decades. Earlier in the century, genres like classical were more popular that did not have a lot of vocals. In the mid 20th century, there was more of a shift to disco and jazz that involved more words but still had a prime focus on the intrumnetnalness. Now, in the early 21st century, the most popular genres are pop and hip-hop/rap which are heavily focused and build off of their vocals. "
      ]
    },
    {
      "cell_type": "code",
      "metadata": {
        "colab": {
          "base_uri": "https://localhost:8080/",
          "height": 454
        },
        "id": "DNg6UhmZpDsh",
        "outputId": "ea7cf67d-4ae4-4139-9562-3291395afc33"
      },
      "source": [
        "sns.lmplot('year', 'instrumentalness' , data=df_decades, fit_reg=True)"
      ],
      "execution_count": null,
      "outputs": [
        {
          "output_type": "stream",
          "text": [
            "/usr/local/lib/python3.6/dist-packages/seaborn/_decorators.py:43: FutureWarning: Pass the following variables as keyword args: x, y. From version 0.12, the only valid positional argument will be `data`, and passing other arguments without an explicit keyword will result in an error or misinterpretation.\n",
            "  FutureWarning\n"
          ],
          "name": "stderr"
        },
        {
          "output_type": "execute_result",
          "data": {
            "text/plain": [
              "<seaborn.axisgrid.FacetGrid at 0x7f882cac4940>"
            ]
          },
          "metadata": {
            "tags": []
          },
          "execution_count": 63
        },
        {
          "output_type": "display_data",
          "data": {
            "image/png": "[encoded data removed]",
            "text/plain": [
              "<Figure size 360x360 with 1 Axes>"
            ]
          },
          "metadata": {
            "tags": [],
            "needs_background": "light"
          }
        }
      ]
    },
    {
      "cell_type": "markdown",
      "metadata": {
        "id": "zy7rmvjhpIxm"
      },
      "source": [
        "#Modality"
      ]
    },
    {
      "cell_type": "code",
      "metadata": {
        "colab": {
          "base_uri": "https://localhost:8080/",
          "height": 454
        },
        "id": "eFJQF-jks4bS",
        "outputId": "c1ce1924-835f-4fbc-8e55-5ba8da2e18fb"
      },
      "source": [
        "sns.lmplot('year', 'mode' , data=df_decades, fit_reg=True)"
      ],
      "execution_count": null,
      "outputs": [
        {
          "output_type": "stream",
          "text": [
            "/usr/local/lib/python3.6/dist-packages/seaborn/_decorators.py:43: FutureWarning: Pass the following variables as keyword args: x, y. From version 0.12, the only valid positional argument will be `data`, and passing other arguments without an explicit keyword will result in an error or misinterpretation.\n",
            "  FutureWarning\n"
          ],
          "name": "stderr"
        },
        {
          "output_type": "execute_result",
          "data": {
            "text/plain": [
              "<seaborn.axisgrid.FacetGrid at 0x7f882cac1dd8>"
            ]
          },
          "metadata": {
            "tags": []
          },
          "execution_count": 64
        },
        {
          "output_type": "display_data",
          "data": {
            "image/png": "[encoded data removed]",
            "text/plain": [
              "<Figure size 360x360 with 1 Axes>"
            ]
          },
          "metadata": {
            "tags": [],
            "needs_background": "light"
          }
        }
      ]
    },
    {
      "cell_type": "markdown",
      "metadata": {
        "id": "APjUVqaRt4sf"
      },
      "source": [
        "Acousticness "
      ]
    },
    {
      "cell_type": "code",
      "metadata": {
        "colab": {
          "base_uri": "https://localhost:8080/",
          "height": 454
        },
        "id": "15c5DHZUuGyZ",
        "outputId": "95ef0be0-7b4c-4b76-8b5b-9d50cfb021d3"
      },
      "source": [
        "sns.lmplot('year', 'acousticness' , data=df_decades, fit_reg=True)"
      ],
      "execution_count": null,
      "outputs": [
        {
          "output_type": "stream",
          "text": [
            "/usr/local/lib/python3.6/dist-packages/seaborn/_decorators.py:43: FutureWarning: Pass the following variables as keyword args: x, y. From version 0.12, the only valid positional argument will be `data`, and passing other arguments without an explicit keyword will result in an error or misinterpretation.\n",
            "  FutureWarning\n"
          ],
          "name": "stderr"
        },
        {
          "output_type": "execute_result",
          "data": {
            "text/plain": [
              "<seaborn.axisgrid.FacetGrid at 0x7f882cac49e8>"
            ]
          },
          "metadata": {
            "tags": []
          },
          "execution_count": 65
        },
        {
          "output_type": "display_data",
          "data": {
            "image/png": "[encoded data removed]",
            "text/plain": [
              "<Figure size 360x360 with 1 Axes>"
            ]
          },
          "metadata": {
            "tags": [],
            "needs_background": "light"
          }
        }
      ]
    },
    {
      "cell_type": "markdown",
      "metadata": {
        "id": "Q3QDQYMV7vTH"
      },
      "source": [
        "The acoustiness of a song is a confidence measure bewtween one and zero with one being more confident. A song with a acousticness rating of 1 would mean that it is very certain that the song is soley composed with intruments that generate sounds through acoustic instruments as opposed to electric sounds. The overall decreasing trend in acousticness is very interesting and can be largely attributed to the adnavcements of technology in the music field and the shift in popular music genres. Early in the 20th century, music softwares pratically did not exist and the technology of electrical instruments were not very good. As we moved through the industrial age into the the technological age, we developed better electical instruments and developed software to make sythenic sounds. This gave birth to entire music genres like electronica while creating dominating subcultres within genres like hip-hop/rap. The advancement in technology and the overall rise in popularity of music genres that did use electic/synthetic sound, can be used to explain this explain the fast decrease in acousticness of songs since the early 20th century. "
      ]
    },
    {
      "cell_type": "markdown",
      "metadata": {
        "id": "9_SKHE3tu8gL"
      },
      "source": [
        "Speechiness"
      ]
    },
    {
      "cell_type": "code",
      "metadata": {
        "colab": {
          "base_uri": "https://localhost:8080/",
          "height": 454
        },
        "id": "wlqgoKJau-hM",
        "outputId": "2b0132e8-a459-431d-c696-7b5beb7de7f0"
      },
      "source": [
        "sns.lmplot('year', 'speechiness' , data=df_decades, fit_reg=True)"
      ],
      "execution_count": null,
      "outputs": [
        {
          "output_type": "stream",
          "text": [
            "/usr/local/lib/python3.6/dist-packages/seaborn/_decorators.py:43: FutureWarning: Pass the following variables as keyword args: x, y. From version 0.12, the only valid positional argument will be `data`, and passing other arguments without an explicit keyword will result in an error or misinterpretation.\n",
            "  FutureWarning\n"
          ],
          "name": "stderr"
        },
        {
          "output_type": "execute_result",
          "data": {
            "text/plain": [
              "<seaborn.axisgrid.FacetGrid at 0x7f882c9c2a58>"
            ]
          },
          "metadata": {
            "tags": []
          },
          "execution_count": 66
        },
        {
          "output_type": "display_data",
          "data": {
            "image/png": "[encoded data removed]",
            "text/plain": [
              "<Figure size 360x360 with 1 Axes>"
            ]
          },
          "metadata": {
            "tags": [],
            "needs_background": "light"
          }
        }
      ]
    },
    {
      "cell_type": "markdown",
      "metadata": {
        "id": "sKyWPs1U2VWd"
      },
      "source": [
        "#Tempo"
      ]
    },
    {
      "cell_type": "code",
      "metadata": {
        "colab": {
          "base_uri": "https://localhost:8080/",
          "height": 454
        },
        "id": "VP_PfSW8vU2a",
        "outputId": "10b45873-e5e5-4655-96f9-48ffe17130b4"
      },
      "source": [
        "sns.lmplot('year', 'tempo' , data=df_decades, fit_reg=True)"
      ],
      "execution_count": null,
      "outputs": [
        {
          "output_type": "stream",
          "text": [
            "/usr/local/lib/python3.6/dist-packages/seaborn/_decorators.py:43: FutureWarning: Pass the following variables as keyword args: x, y. From version 0.12, the only valid positional argument will be `data`, and passing other arguments without an explicit keyword will result in an error or misinterpretation.\n",
            "  FutureWarning\n"
          ],
          "name": "stderr"
        },
        {
          "output_type": "execute_result",
          "data": {
            "text/plain": [
              "<seaborn.axisgrid.FacetGrid at 0x7f882c962518>"
            ]
          },
          "metadata": {
            "tags": []
          },
          "execution_count": 67
        },
        {
          "output_type": "display_data",
          "data": {
            "image/png": "[encoded data removed]",
            "text/plain": [
              "<Figure size 360x360 with 1 Axes>"
            ]
          },
          "metadata": {
            "tags": [],
            "needs_background": "light"
          }
        }
      ]
    }
  ]
}