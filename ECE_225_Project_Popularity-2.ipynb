{
  "nbformat": 4,
  "nbformat_minor": 0,
  "metadata": {
    "colab": {
      "name": "ECE 225 Project -- Popularity",
      "provenance": [],
      "collapsed_sections": [],
      "toc_visible": true
    },
    "kernelspec": {
      "name": "python3",
      "display_name": "Python 3"
    }
  },
  "cells": [
    {
      "cell_type": "markdown",
      "metadata": {
        "id": "ICdlY7U8LRQ3"
      },
      "source": [
        "#ECE 225 Project Model Prediction"
      ]
    },
    {
      "cell_type": "code",
      "metadata": {
        "colab": {
          "base_uri": "https://localhost:8080/"
        },
        "id": "Ir3JVloz2Dcp",
        "outputId": "c779ca98-120c-4f9a-9341-fb27229e1558"
      },
      "source": [
        "import numpy as np \n",
        "import pandas as pd\n",
        "\n",
        "df = pd.read_csv('data.csv')\n",
        "\n",
        "df.drop(['id', 'name', 'artists', 'release_date'], axis = 1, inplace = True)\n",
        "\n",
        "def quantize(x):\n",
        "  if x<=25:\n",
        "    return 0\n",
        "  elif 25<x<=50:\n",
        "    return 1\n",
        "  elif 50<x<=75:\n",
        "    return 2\n",
        "  else:\n",
        "    return 3\n",
        "\n",
        "df['popularity'] = df[\"popularity\"].apply(quantize)\n",
        "\n",
        "print(df.shape)\n",
        "\n",
        "#Data Cleaning \n",
        "Null_values = df.isnull().sum()\n",
        "df.dropna(inplace = True)\n",
        "df.drop_duplicates(inplace = True)\n",
        "print(df.shape) #Looking at the change in shape, looks like there were some missing values and duplicates\n",
        "\n",
        "#We split the y values from the data frame\n",
        "y = df.loc[:,\"popularity\"]\n",
        "# y = y_column.values\n",
        "df = df.drop(labels=\"popularity\", axis=1) #delete y column \n",
        "print(y.shape)\n",
        "print(df.columns)\n",
        "\n",
        "\n"
      ],
      "execution_count": 2,
      "outputs": [
        {
          "output_type": "stream",
          "text": [
            "(170653, 15)\n",
            "(168742, 15)\n",
            "(168742,)\n",
            "Index(['valence', 'year', 'acousticness', 'danceability', 'duration_ms',\n",
            "       'energy', 'explicit', 'instrumentalness', 'key', 'liveness', 'loudness',\n",
            "       'mode', 'speechiness', 'tempo'],\n",
            "      dtype='object')\n"
          ],
          "name": "stdout"
        }
      ]
    },
    {
      "cell_type": "code",
      "metadata": {
        "colab": {
          "base_uri": "https://localhost:8080/",
          "height": 439
        },
        "id": "fJcL773JnIIn",
        "outputId": "6f058980-6e8e-4b7c-ed5b-e6bff5d56bce"
      },
      "source": [
        "df\n"
      ],
      "execution_count": 3,
      "outputs": [
        {
          "output_type": "execute_result",
          "data": {
            "text/html": [
              "<div>\n",
              "<style scoped>\n",
              "    .dataframe tbody tr th:only-of-type {\n",
              "        vertical-align: middle;\n",
              "    }\n",
              "\n",
              "    .dataframe tbody tr th {\n",
              "        vertical-align: top;\n",
              "    }\n",
              "\n",
              "    .dataframe thead th {\n",
              "        text-align: right;\n",
              "    }\n",
              "</style>\n",
              "<table border=\"1\" class=\"dataframe\">\n",
              "  <thead>\n",
              "    <tr style=\"text-align: right;\">\n",
              "      <th></th>\n",
              "      <th>valence</th>\n",
              "      <th>year</th>\n",
              "      <th>acousticness</th>\n",
              "      <th>danceability</th>\n",
              "      <th>duration_ms</th>\n",
              "      <th>energy</th>\n",
              "      <th>explicit</th>\n",
              "      <th>instrumentalness</th>\n",
              "      <th>key</th>\n",
              "      <th>liveness</th>\n",
              "      <th>loudness</th>\n",
              "      <th>mode</th>\n",
              "      <th>speechiness</th>\n",
              "      <th>tempo</th>\n",
              "    </tr>\n",
              "  </thead>\n",
              "  <tbody>\n",
              "    <tr>\n",
              "      <th>0</th>\n",
              "      <td>0.0594</td>\n",
              "      <td>1921</td>\n",
              "      <td>0.98200</td>\n",
              "      <td>0.279</td>\n",
              "      <td>831667</td>\n",
              "      <td>0.211</td>\n",
              "      <td>0</td>\n",
              "      <td>0.878000</td>\n",
              "      <td>10</td>\n",
              "      <td>0.6650</td>\n",
              "      <td>-20.096</td>\n",
              "      <td>1</td>\n",
              "      <td>0.0366</td>\n",
              "      <td>80.954</td>\n",
              "    </tr>\n",
              "    <tr>\n",
              "      <th>1</th>\n",
              "      <td>0.9630</td>\n",
              "      <td>1921</td>\n",
              "      <td>0.73200</td>\n",
              "      <td>0.819</td>\n",
              "      <td>180533</td>\n",
              "      <td>0.341</td>\n",
              "      <td>0</td>\n",
              "      <td>0.000000</td>\n",
              "      <td>7</td>\n",
              "      <td>0.1600</td>\n",
              "      <td>-12.441</td>\n",
              "      <td>1</td>\n",
              "      <td>0.4150</td>\n",
              "      <td>60.936</td>\n",
              "    </tr>\n",
              "    <tr>\n",
              "      <th>2</th>\n",
              "      <td>0.0394</td>\n",
              "      <td>1921</td>\n",
              "      <td>0.96100</td>\n",
              "      <td>0.328</td>\n",
              "      <td>500062</td>\n",
              "      <td>0.166</td>\n",
              "      <td>0</td>\n",
              "      <td>0.913000</td>\n",
              "      <td>3</td>\n",
              "      <td>0.1010</td>\n",
              "      <td>-14.850</td>\n",
              "      <td>1</td>\n",
              "      <td>0.0339</td>\n",
              "      <td>110.339</td>\n",
              "    </tr>\n",
              "    <tr>\n",
              "      <th>3</th>\n",
              "      <td>0.1650</td>\n",
              "      <td>1921</td>\n",
              "      <td>0.96700</td>\n",
              "      <td>0.275</td>\n",
              "      <td>210000</td>\n",
              "      <td>0.309</td>\n",
              "      <td>0</td>\n",
              "      <td>0.000028</td>\n",
              "      <td>5</td>\n",
              "      <td>0.3810</td>\n",
              "      <td>-9.316</td>\n",
              "      <td>1</td>\n",
              "      <td>0.0354</td>\n",
              "      <td>100.109</td>\n",
              "    </tr>\n",
              "    <tr>\n",
              "      <th>4</th>\n",
              "      <td>0.2530</td>\n",
              "      <td>1921</td>\n",
              "      <td>0.95700</td>\n",
              "      <td>0.418</td>\n",
              "      <td>166693</td>\n",
              "      <td>0.193</td>\n",
              "      <td>0</td>\n",
              "      <td>0.000002</td>\n",
              "      <td>3</td>\n",
              "      <td>0.2290</td>\n",
              "      <td>-10.096</td>\n",
              "      <td>1</td>\n",
              "      <td>0.0380</td>\n",
              "      <td>101.665</td>\n",
              "    </tr>\n",
              "    <tr>\n",
              "      <th>...</th>\n",
              "      <td>...</td>\n",
              "      <td>...</td>\n",
              "      <td>...</td>\n",
              "      <td>...</td>\n",
              "      <td>...</td>\n",
              "      <td>...</td>\n",
              "      <td>...</td>\n",
              "      <td>...</td>\n",
              "      <td>...</td>\n",
              "      <td>...</td>\n",
              "      <td>...</td>\n",
              "      <td>...</td>\n",
              "      <td>...</td>\n",
              "      <td>...</td>\n",
              "    </tr>\n",
              "    <tr>\n",
              "      <th>170648</th>\n",
              "      <td>0.6080</td>\n",
              "      <td>2020</td>\n",
              "      <td>0.08460</td>\n",
              "      <td>0.786</td>\n",
              "      <td>301714</td>\n",
              "      <td>0.808</td>\n",
              "      <td>0</td>\n",
              "      <td>0.000289</td>\n",
              "      <td>7</td>\n",
              "      <td>0.0822</td>\n",
              "      <td>-3.702</td>\n",
              "      <td>1</td>\n",
              "      <td>0.0881</td>\n",
              "      <td>105.029</td>\n",
              "    </tr>\n",
              "    <tr>\n",
              "      <th>170649</th>\n",
              "      <td>0.7340</td>\n",
              "      <td>2020</td>\n",
              "      <td>0.20600</td>\n",
              "      <td>0.717</td>\n",
              "      <td>150654</td>\n",
              "      <td>0.753</td>\n",
              "      <td>0</td>\n",
              "      <td>0.000000</td>\n",
              "      <td>7</td>\n",
              "      <td>0.1010</td>\n",
              "      <td>-6.020</td>\n",
              "      <td>1</td>\n",
              "      <td>0.0605</td>\n",
              "      <td>137.936</td>\n",
              "    </tr>\n",
              "    <tr>\n",
              "      <th>170650</th>\n",
              "      <td>0.6370</td>\n",
              "      <td>2020</td>\n",
              "      <td>0.10100</td>\n",
              "      <td>0.634</td>\n",
              "      <td>211280</td>\n",
              "      <td>0.858</td>\n",
              "      <td>0</td>\n",
              "      <td>0.000009</td>\n",
              "      <td>4</td>\n",
              "      <td>0.2580</td>\n",
              "      <td>-2.226</td>\n",
              "      <td>0</td>\n",
              "      <td>0.0809</td>\n",
              "      <td>91.688</td>\n",
              "    </tr>\n",
              "    <tr>\n",
              "      <th>170651</th>\n",
              "      <td>0.1950</td>\n",
              "      <td>2020</td>\n",
              "      <td>0.00998</td>\n",
              "      <td>0.671</td>\n",
              "      <td>337147</td>\n",
              "      <td>0.623</td>\n",
              "      <td>1</td>\n",
              "      <td>0.000008</td>\n",
              "      <td>2</td>\n",
              "      <td>0.6430</td>\n",
              "      <td>-7.161</td>\n",
              "      <td>1</td>\n",
              "      <td>0.3080</td>\n",
              "      <td>75.055</td>\n",
              "    </tr>\n",
              "    <tr>\n",
              "      <th>170652</th>\n",
              "      <td>0.6420</td>\n",
              "      <td>2020</td>\n",
              "      <td>0.13200</td>\n",
              "      <td>0.856</td>\n",
              "      <td>189507</td>\n",
              "      <td>0.721</td>\n",
              "      <td>1</td>\n",
              "      <td>0.004710</td>\n",
              "      <td>7</td>\n",
              "      <td>0.1820</td>\n",
              "      <td>-4.928</td>\n",
              "      <td>1</td>\n",
              "      <td>0.1080</td>\n",
              "      <td>94.991</td>\n",
              "    </tr>\n",
              "  </tbody>\n",
              "</table>\n",
              "<p>168742 rows × 14 columns</p>\n",
              "</div>"
            ],
            "text/plain": [
              "        valence  year  acousticness  ...  mode  speechiness    tempo\n",
              "0        0.0594  1921       0.98200  ...     1       0.0366   80.954\n",
              "1        0.9630  1921       0.73200  ...     1       0.4150   60.936\n",
              "2        0.0394  1921       0.96100  ...     1       0.0339  110.339\n",
              "3        0.1650  1921       0.96700  ...     1       0.0354  100.109\n",
              "4        0.2530  1921       0.95700  ...     1       0.0380  101.665\n",
              "...         ...   ...           ...  ...   ...          ...      ...\n",
              "170648   0.6080  2020       0.08460  ...     1       0.0881  105.029\n",
              "170649   0.7340  2020       0.20600  ...     1       0.0605  137.936\n",
              "170650   0.6370  2020       0.10100  ...     0       0.0809   91.688\n",
              "170651   0.1950  2020       0.00998  ...     1       0.3080   75.055\n",
              "170652   0.6420  2020       0.13200  ...     1       0.1080   94.991\n",
              "\n",
              "[168742 rows x 14 columns]"
            ]
          },
          "metadata": {
            "tags": []
          },
          "execution_count": 3
        }
      ]
    },
    {
      "cell_type": "code",
      "metadata": {
        "colab": {
          "base_uri": "https://localhost:8080/"
        },
        "id": "ImDd0EGhwB7U",
        "outputId": "2f9b47f2-dca3-4fbc-d31e-a1900618a77c"
      },
      "source": [
        "y"
      ],
      "execution_count": 4,
      "outputs": [
        {
          "output_type": "execute_result",
          "data": {
            "text/plain": [
              "0         0\n",
              "1         0\n",
              "2         0\n",
              "3         0\n",
              "4         0\n",
              "         ..\n",
              "170648    2\n",
              "170649    2\n",
              "170650    3\n",
              "170651    2\n",
              "170652    2\n",
              "Name: popularity, Length: 168742, dtype: int64"
            ]
          },
          "metadata": {
            "tags": []
          },
          "execution_count": 4
        }
      ]
    },
    {
      "cell_type": "markdown",
      "metadata": {
        "id": "z1dXwwXyttVK"
      },
      "source": [
        "#Train / Test Split\n",
        "\n"
      ]
    },
    {
      "cell_type": "code",
      "metadata": {
        "colab": {
          "base_uri": "https://localhost:8080/"
        },
        "id": "3Yz1ei24tWtL",
        "outputId": "51f760c1-3086-4a38-9db1-6db7df48f6ea"
      },
      "source": [
        "from collections import Counter\n",
        "from sklearn.datasets import make_classification\n",
        "from sklearn.model_selection import train_test_split\n",
        "\n",
        "X_train, X_test, y_train, y_test = train_test_split(df, y, train_size=0.80, stratify=y)\n",
        "print('Frequency of each class with just random sampling in Y Train is ', Counter(y_train))\n",
        "print('Frequency of each class with just random sampling in Y Train is ', Counter(y_test))"
      ],
      "execution_count": 6,
      "outputs": [
        {
          "output_type": "stream",
          "text": [
            "Frequency of each class with just random sampling in Y Train is  Counter({1: 54950, 0: 51293, 2: 27374, 3: 1376})\n",
            "Frequency of each class with just random sampling in Y Train is  Counter({1: 13738, 0: 12824, 2: 6843, 3: 344})\n"
          ],
          "name": "stdout"
        }
      ]
    },
    {
      "cell_type": "markdown",
      "metadata": {
        "id": "1E1sv0AJt05i"
      },
      "source": [
        "#Model Analysis"
      ]
    },
    {
      "cell_type": "code",
      "metadata": {
        "id": "3y-oCr1vt4G2"
      },
      "source": [
        "from sklearn.pipeline import Pipeline\n",
        "from sklearn.ensemble import RandomForestClassifier\n",
        "from sklearn.linear_model import LogisticRegression\n",
        "from sklearn import datasets\n",
        "from sklearn.preprocessing import StandardScaler\n",
        "from sklearn.neighbors import KNeighborsClassifier\n",
        "from sklearn.model_selection import train_test_split\n",
        "from sklearn.metrics import accuracy_score\n",
        "from sklearn.model_selection import StratifiedKFold\n",
        "from sklearn.linear_model import LogisticRegression\n",
        "from sklearn.svm import SVC\n",
        "from sklearn.model_selection import GridSearchCV\n",
        "from sklearn.model_selection import learning_curve\n",
        "from sklearn.model_selection import validation_curve\n",
        "from sklearn.metrics import r2_score\n",
        "from sklearn.model_selection import cross_val_score\n",
        "from sklearn.metrics import make_scorer\n",
        "from sklearn.pipeline import make_pipeline\n",
        "from sklearn.preprocessing import PolynomialFeatures\n",
        "from sklearn.linear_model import LinearRegression\n",
        "import numpy as np\n",
        "import matplotlib.pyplot as plt\n",
        "import pandas as pd\n",
        "import seaborn as sns; sns.set_style('white')  \n",
        "import warnings\n",
        "\n",
        "warnings.filterwarnings('ignore')\n",
        "\n",
        "# Initializing Classifiers\n",
        "clf1 = LogisticRegression(multi_class='multinomial',\n",
        "                          solver='newton-cg',\n",
        "                          random_state=23225)\n",
        "clf2 = KNeighborsClassifier(algorithm='ball_tree',\n",
        "                            leaf_size=50)\n",
        "clf3 = RandomForestClassifier()\n",
        "\n",
        "\n",
        "\n",
        "# Building the pipelines\n",
        "pipe1 = Pipeline([('std', StandardScaler()),\n",
        "                  ('classifier', clf1)])\n",
        "\n",
        "pipe2 = Pipeline([('std', StandardScaler()),\n",
        "                  ('classifier', clf2)])\n",
        "\n",
        "\n",
        "pipe3 = Pipeline([('classifier', clf3)]) \n",
        "\n",
        "\n",
        "#Choosing k between 1 and 1000, 26 values\n",
        "k_flt = np.logspace(0.1, 3, num = 26)\n",
        "k_list = []\n",
        "for num in k_flt:\n",
        "  k_list.append(int(num))\n",
        "\n",
        "# Setting up the parameter grids\n",
        "param_grid1 = [{'classifier__penalty': ['none','l2'],\n",
        "                'classifier__C': np.power(10., np.arange(-4, 4))}] #Varying C\n",
        "\n",
        "param_grid2 = [{'classifier__n_neighbors': k_list, #Varying K \n",
        "                'classifier__p': [1, 2]}]\n",
        "\n",
        "param_grid3 = [{'classifier__n_estimators': [10, 100, 1000],\n",
        "                 'classifier__max_features': [1, 2,4,6,8,12,16,20]}]\n",
        "\n",
        "\n",
        "\n",
        "# Setting up multiple GridSearchCV objects, 1 for each algorithm\n",
        "gridcvs = {}\n",
        "\n",
        "for pgrid, est, name in zip((param_grid1, param_grid2, param_grid3),\n",
        "                            (pipe1, pipe2, pipe3),\n",
        "                            ('Logistic', 'KNN', 'RF')):\n",
        "  \n",
        "    gcv = GridSearchCV(estimator=est,\n",
        "                       param_grid=pgrid,\n",
        "                       scoring='accuracy',\n",
        "                       n_jobs=1,\n",
        "                       cv=2, # just 2-fold inner loop, i.e. train/test\n",
        "                       verbose=0,\n",
        "                       refit=True)\n",
        "    gridcvs[name] = gcv"
      ],
      "execution_count": null,
      "outputs": []
    },
    {
      "cell_type": "code",
      "metadata": {
        "colab": {
          "base_uri": "https://localhost:8080/"
        },
        "id": "l6mlUgUIt-Lm",
        "outputId": "0071cd38-e2cb-42ea-d2c5-e9161a810382"
      },
      "source": [
        "%%time \n",
        "\n",
        "cv_scores = {name: [] for name, gs_est in gridcvs.items()}\n",
        "\n",
        "skfold = StratifiedKFold( n_splits=3, shuffle=True, random_state=1)\n",
        "\n",
        "# The outer loop for algorithm selection\n",
        "c = 1\n",
        "for outer_train_idx, outer_valid_idx in skfold.split(X_train,y_train):\n",
        "    for name, gs_est in sorted(gridcvs.items()):\n",
        "        print('outer fold %d/5 | tuning %-8s' % (c, name), end='')\n",
        "\n",
        "        # The inner loop for hyperparameter tuning\n",
        "        gs_est.fit(X_train.iloc[outer_train_idx], y_train.iloc[outer_train_idx])\n",
        "        y_pred = gs_est.predict(X_train.iloc[outer_valid_idx])\n",
        "        acc = accuracy_score(y_true=y_train.iloc[outer_valid_idx], y_pred=y_pred)\n",
        "        print(' | inner ACC %.2f%% | outer ACC %.2f%%' %\n",
        "              (gs_est.best_score_ * 100, acc * 100))\n",
        "        cv_scores[name].append(acc)\n",
        "\n",
        "    c += 1\n",
        "\n",
        "\n"
      ],
      "execution_count": null,
      "outputs": [
        {
          "output_type": "stream",
          "text": [
            "outer fold 1/5 | tuning KNN      | inner ACC 73.74% | outer ACC 74.07%\n",
            "outer fold 1/5 | tuning Logistic | inner ACC 76.07% | outer ACC 75.78%\n",
            "outer fold 1/5 | tuning RF       | inner ACC 76.83% | outer ACC 76.56%\n",
            "outer fold 2/5 | tuning KNN      | inner ACC 73.69% | outer ACC 74.45%\n",
            "outer fold 2/5 | tuning Logistic | inner ACC 75.89% | outer ACC 76.24%\n",
            "outer fold 2/5 | tuning RF       | inner ACC 76.77% | outer ACC 76.91%\n",
            "outer fold 3/5 | tuning KNN      | inner ACC 73.70% | outer ACC 74.21%\n",
            "outer fold 3/5 | tuning Logistic | inner ACC 76.03% | outer ACC 76.04%\n",
            "outer fold 3/5 | tuning RF       | inner ACC 76.85% | outer ACC 76.85%\n",
            "CPU times: user 45min 23s, sys: 2min 16s, total: 47min 40s\n",
            "Wall time: 45min 28s\n"
          ],
          "name": "stdout"
        }
      ]
    },
    {
      "cell_type": "code",
      "metadata": {
        "id": "cFVeJNcCAAJx",
        "colab": {
          "base_uri": "https://localhost:8080/"
        },
        "outputId": "834c8727-99bc-4317-e411-4017214eb06f"
      },
      "source": [
        "# Looking at the results\n",
        "for name in cv_scores:\n",
        "    print('%-8s | outer CV acc. %.2f%% +\\- %.3f' % (\n",
        "          name, 100 * np.mean(cv_scores[name]), 100 * np.std(cv_scores[name])))\n",
        "print()\n",
        "for name in cv_scores:\n",
        "    print('{} best parameters'.format(name), gridcvs[name].best_params_)"
      ],
      "execution_count": null,
      "outputs": [
        {
          "output_type": "stream",
          "text": [
            "Logistic | outer CV acc. 76.02% +\\- 0.187\n",
            "KNN      | outer CV acc. 74.24% +\\- 0.153\n",
            "RF       | outer CV acc. 76.77% +\\- 0.153\n",
            "\n",
            "Logistic best parameters {'classifier__C': 1.0, 'classifier__penalty': 'l2'}\n",
            "KNN best parameters {'classifier__n_neighbors': 50, 'classifier__p': 1}\n",
            "RF best parameters {'classifier__max_features': 2, 'classifier__n_estimators': 100}\n"
          ],
          "name": "stdout"
        }
      ]
    },
    {
      "cell_type": "code",
      "metadata": {
        "id": "g5ElMx_HABgV",
        "colab": {
          "base_uri": "https://localhost:8080/"
        },
        "outputId": "68cba86b-bf50-4b52-d2ce-f439caa7171a"
      },
      "source": [
        "# Fitting a model to the whole training set\n",
        "# using the \"best\" algorithm\n",
        "best_algorithim = gridcvs['KNN']\n",
        "\n",
        "best_algo.fit(X_train, y_train)\n",
        "train_acc = accuracy_score(y_true=y_train, y_pred=best_algorithim.predict(X_train))\n",
        "test_acc = accuracy_score(y_true=y_test, y_pred=best_algorithim.predict(X_test))\n",
        "\n",
        "print('Accuracy %.2f%% (average over CV test folds)' %\n",
        "      (100 * best_algorithim.best_score_))\n",
        "print('Best Parameters: %s' % gridcvs['KNN'].best_params_)\n",
        "print('Training Accuracy: %.2f%%' % (100 * train_acc))\n",
        "print('Test Accuracy: %.2f%%' % (100 * test_acc))"
      ],
      "execution_count": null,
      "outputs": [
        {
          "output_type": "stream",
          "text": [
            "Accuracy 74.03% (average over CV test folds)\n",
            "Best Parameters: {'classifier__n_neighbors': 50, 'classifier__p': 1}\n",
            "Training Accuracy: 75.52%\n",
            "Test Accuracy: 74.31%\n"
          ],
          "name": "stdout"
        }
      ]
    }
  ]
}